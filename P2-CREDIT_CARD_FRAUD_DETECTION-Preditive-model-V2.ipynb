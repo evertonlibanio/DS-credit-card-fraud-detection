{
 "cells": [
  {
   "cell_type": "markdown",
   "id": "5f3c2cd0",
   "metadata": {},
   "source": [
    "## P2 CREDIT_CARD_FRAUD_DETECTION - Preditive model"
   ]
  },
  {
   "cell_type": "markdown",
   "id": "80ff3770",
   "metadata": {},
   "source": [
    "### The objective of this notebook is using the pré processed data in previous in P1 and make prevision model\n",
    "### And apply de NearMiss e Smooth tecnics to lead with unbalanced dataset "
   ]
  },
  {
   "cell_type": "code",
   "execution_count": 1,
   "id": "971eb1de",
   "metadata": {},
   "outputs": [],
   "source": [
    "# loading libraries\n",
    "import pandas as pd\n",
    "import numpy as np\n",
    "import matplotlib.pyplot as plt\n",
    "import seaborn as sns\n",
    "%matplotlib inline\n",
    "\n",
    "import warnings\n",
    "warnings.filterwarnings('ignore')"
   ]
  },
  {
   "cell_type": "markdown",
   "id": "289b0259",
   "metadata": {},
   "source": [
    "#  1 INITIAL MODEL IMPLEMENTATION"
   ]
  },
  {
   "cell_type": "markdown",
   "id": "774bc29c",
   "metadata": {},
   "source": [
    "# 1.1 Load the pré processed data"
   ]
  },
  {
   "cell_type": "code",
   "execution_count": 2,
   "id": "39ae4a9b",
   "metadata": {},
   "outputs": [],
   "source": [
    "#displaying all the rows and columns\n",
    "pd.set_option('display.max_columns',None)\n",
    "pd.set_option('display.max_rows',None)"
   ]
  },
  {
   "cell_type": "code",
   "execution_count": 3,
   "id": "3ec3f9a9",
   "metadata": {},
   "outputs": [],
   "source": [
    "# load the data of application_data\n",
    "df_app=pd.read_csv(\"dataReducted.csv\",encoding = \"latin-1\")"
   ]
  },
  {
   "cell_type": "code",
   "execution_count": 4,
   "id": "b0242156",
   "metadata": {},
   "outputs": [
    {
     "data": {
      "text/html": [
       "<div>\n",
       "<style scoped>\n",
       "    .dataframe tbody tr th:only-of-type {\n",
       "        vertical-align: middle;\n",
       "    }\n",
       "\n",
       "    .dataframe tbody tr th {\n",
       "        vertical-align: top;\n",
       "    }\n",
       "\n",
       "    .dataframe thead th {\n",
       "        text-align: right;\n",
       "    }\n",
       "</style>\n",
       "<table border=\"1\" class=\"dataframe\">\n",
       "  <thead>\n",
       "    <tr style=\"text-align: right;\">\n",
       "      <th></th>\n",
       "      <th>Unnamed: 0</th>\n",
       "      <th>SK_ID_CURR</th>\n",
       "      <th>TARGET</th>\n",
       "      <th>NAME_CONTRACT_TYPE</th>\n",
       "      <th>CODE_GENDER</th>\n",
       "      <th>FLAG_OWN_CAR</th>\n",
       "      <th>FLAG_OWN_REALTY</th>\n",
       "      <th>CNT_CHILDREN</th>\n",
       "      <th>AMT_INCOME_TOTAL</th>\n",
       "      <th>AMT_CREDIT</th>\n",
       "      <th>AMT_ANNUITY</th>\n",
       "      <th>AMT_GOODS_PRICE</th>\n",
       "      <th>NAME_INCOME_TYPE</th>\n",
       "      <th>NAME_EDUCATION_TYPE</th>\n",
       "      <th>NAME_FAMILY_STATUS</th>\n",
       "      <th>NAME_HOUSING_TYPE</th>\n",
       "      <th>REGION_POPULATION_RELATIVE</th>\n",
       "      <th>DAYS_BIRTH</th>\n",
       "      <th>DAYS_EMPLOYED</th>\n",
       "      <th>OWN_CAR_AGE</th>\n",
       "      <th>OCCUPATION_TYPE</th>\n",
       "      <th>CNT_FAM_MEMBERS</th>\n",
       "      <th>REGION_RATING_CLIENT</th>\n",
       "      <th>REGION_RATING_CLIENT_W_CITY</th>\n",
       "      <th>ORGANIZATION_TYPE</th>\n",
       "      <th>AMT_REQ_CREDIT_BUREAU_YEAR</th>\n",
       "    </tr>\n",
       "  </thead>\n",
       "  <tbody>\n",
       "    <tr>\n",
       "      <th>0</th>\n",
       "      <td>0</td>\n",
       "      <td>100002</td>\n",
       "      <td>1</td>\n",
       "      <td>Cash loans</td>\n",
       "      <td>M</td>\n",
       "      <td>N</td>\n",
       "      <td>Y</td>\n",
       "      <td>0</td>\n",
       "      <td>202500.0</td>\n",
       "      <td>406597.5</td>\n",
       "      <td>24700.5</td>\n",
       "      <td>351000.0</td>\n",
       "      <td>Working</td>\n",
       "      <td>Secondary / secondary special</td>\n",
       "      <td>Single / not married</td>\n",
       "      <td>House / apartment</td>\n",
       "      <td>0.018801</td>\n",
       "      <td>9461</td>\n",
       "      <td>637</td>\n",
       "      <td>9.0</td>\n",
       "      <td>Laborers</td>\n",
       "      <td>1.0</td>\n",
       "      <td>2</td>\n",
       "      <td>2</td>\n",
       "      <td>Business Entity Type 3</td>\n",
       "      <td>1.0</td>\n",
       "    </tr>\n",
       "    <tr>\n",
       "      <th>1</th>\n",
       "      <td>1</td>\n",
       "      <td>100003</td>\n",
       "      <td>0</td>\n",
       "      <td>Cash loans</td>\n",
       "      <td>F</td>\n",
       "      <td>N</td>\n",
       "      <td>N</td>\n",
       "      <td>0</td>\n",
       "      <td>270000.0</td>\n",
       "      <td>1293502.5</td>\n",
       "      <td>35698.5</td>\n",
       "      <td>1129500.0</td>\n",
       "      <td>State servant</td>\n",
       "      <td>Higher education</td>\n",
       "      <td>Married</td>\n",
       "      <td>House / apartment</td>\n",
       "      <td>0.003541</td>\n",
       "      <td>16765</td>\n",
       "      <td>1188</td>\n",
       "      <td>9.0</td>\n",
       "      <td>Core staff</td>\n",
       "      <td>2.0</td>\n",
       "      <td>1</td>\n",
       "      <td>1</td>\n",
       "      <td>School</td>\n",
       "      <td>0.0</td>\n",
       "    </tr>\n",
       "    <tr>\n",
       "      <th>2</th>\n",
       "      <td>2</td>\n",
       "      <td>100004</td>\n",
       "      <td>0</td>\n",
       "      <td>Revolving loans</td>\n",
       "      <td>M</td>\n",
       "      <td>Y</td>\n",
       "      <td>Y</td>\n",
       "      <td>0</td>\n",
       "      <td>67500.0</td>\n",
       "      <td>135000.0</td>\n",
       "      <td>6750.0</td>\n",
       "      <td>135000.0</td>\n",
       "      <td>Working</td>\n",
       "      <td>Secondary / secondary special</td>\n",
       "      <td>Single / not married</td>\n",
       "      <td>House / apartment</td>\n",
       "      <td>0.010032</td>\n",
       "      <td>19046</td>\n",
       "      <td>225</td>\n",
       "      <td>26.0</td>\n",
       "      <td>Laborers</td>\n",
       "      <td>1.0</td>\n",
       "      <td>2</td>\n",
       "      <td>2</td>\n",
       "      <td>Government</td>\n",
       "      <td>0.0</td>\n",
       "    </tr>\n",
       "    <tr>\n",
       "      <th>3</th>\n",
       "      <td>3</td>\n",
       "      <td>100006</td>\n",
       "      <td>0</td>\n",
       "      <td>Cash loans</td>\n",
       "      <td>F</td>\n",
       "      <td>N</td>\n",
       "      <td>Y</td>\n",
       "      <td>0</td>\n",
       "      <td>135000.0</td>\n",
       "      <td>312682.5</td>\n",
       "      <td>29686.5</td>\n",
       "      <td>297000.0</td>\n",
       "      <td>Working</td>\n",
       "      <td>Secondary / secondary special</td>\n",
       "      <td>Civil marriage</td>\n",
       "      <td>House / apartment</td>\n",
       "      <td>0.008019</td>\n",
       "      <td>19005</td>\n",
       "      <td>3039</td>\n",
       "      <td>9.0</td>\n",
       "      <td>Laborers</td>\n",
       "      <td>2.0</td>\n",
       "      <td>2</td>\n",
       "      <td>2</td>\n",
       "      <td>Business Entity Type 3</td>\n",
       "      <td>1.0</td>\n",
       "    </tr>\n",
       "    <tr>\n",
       "      <th>4</th>\n",
       "      <td>4</td>\n",
       "      <td>100007</td>\n",
       "      <td>0</td>\n",
       "      <td>Cash loans</td>\n",
       "      <td>M</td>\n",
       "      <td>N</td>\n",
       "      <td>Y</td>\n",
       "      <td>0</td>\n",
       "      <td>121500.0</td>\n",
       "      <td>513000.0</td>\n",
       "      <td>21865.5</td>\n",
       "      <td>513000.0</td>\n",
       "      <td>Working</td>\n",
       "      <td>Secondary / secondary special</td>\n",
       "      <td>Single / not married</td>\n",
       "      <td>House / apartment</td>\n",
       "      <td>0.028663</td>\n",
       "      <td>19932</td>\n",
       "      <td>3038</td>\n",
       "      <td>9.0</td>\n",
       "      <td>Core staff</td>\n",
       "      <td>1.0</td>\n",
       "      <td>2</td>\n",
       "      <td>2</td>\n",
       "      <td>Religion</td>\n",
       "      <td>0.0</td>\n",
       "    </tr>\n",
       "  </tbody>\n",
       "</table>\n",
       "</div>"
      ],
      "text/plain": [
       "   Unnamed: 0  SK_ID_CURR  TARGET NAME_CONTRACT_TYPE CODE_GENDER FLAG_OWN_CAR  \\\n",
       "0           0      100002       1         Cash loans           M            N   \n",
       "1           1      100003       0         Cash loans           F            N   \n",
       "2           2      100004       0    Revolving loans           M            Y   \n",
       "3           3      100006       0         Cash loans           F            N   \n",
       "4           4      100007       0         Cash loans           M            N   \n",
       "\n",
       "  FLAG_OWN_REALTY  CNT_CHILDREN  AMT_INCOME_TOTAL  AMT_CREDIT  AMT_ANNUITY  \\\n",
       "0               Y             0          202500.0    406597.5      24700.5   \n",
       "1               N             0          270000.0   1293502.5      35698.5   \n",
       "2               Y             0           67500.0    135000.0       6750.0   \n",
       "3               Y             0          135000.0    312682.5      29686.5   \n",
       "4               Y             0          121500.0    513000.0      21865.5   \n",
       "\n",
       "   AMT_GOODS_PRICE NAME_INCOME_TYPE            NAME_EDUCATION_TYPE  \\\n",
       "0         351000.0          Working  Secondary / secondary special   \n",
       "1        1129500.0    State servant               Higher education   \n",
       "2         135000.0          Working  Secondary / secondary special   \n",
       "3         297000.0          Working  Secondary / secondary special   \n",
       "4         513000.0          Working  Secondary / secondary special   \n",
       "\n",
       "     NAME_FAMILY_STATUS  NAME_HOUSING_TYPE  REGION_POPULATION_RELATIVE  \\\n",
       "0  Single / not married  House / apartment                    0.018801   \n",
       "1               Married  House / apartment                    0.003541   \n",
       "2  Single / not married  House / apartment                    0.010032   \n",
       "3        Civil marriage  House / apartment                    0.008019   \n",
       "4  Single / not married  House / apartment                    0.028663   \n",
       "\n",
       "   DAYS_BIRTH  DAYS_EMPLOYED  OWN_CAR_AGE OCCUPATION_TYPE  CNT_FAM_MEMBERS  \\\n",
       "0        9461            637          9.0        Laborers              1.0   \n",
       "1       16765           1188          9.0      Core staff              2.0   \n",
       "2       19046            225         26.0        Laborers              1.0   \n",
       "3       19005           3039          9.0        Laborers              2.0   \n",
       "4       19932           3038          9.0      Core staff              1.0   \n",
       "\n",
       "   REGION_RATING_CLIENT  REGION_RATING_CLIENT_W_CITY       ORGANIZATION_TYPE  \\\n",
       "0                     2                            2  Business Entity Type 3   \n",
       "1                     1                            1                  School   \n",
       "2                     2                            2              Government   \n",
       "3                     2                            2  Business Entity Type 3   \n",
       "4                     2                            2                Religion   \n",
       "\n",
       "   AMT_REQ_CREDIT_BUREAU_YEAR  \n",
       "0                         1.0  \n",
       "1                         0.0  \n",
       "2                         0.0  \n",
       "3                         1.0  \n",
       "4                         0.0  "
      ]
     },
     "execution_count": 4,
     "metadata": {},
     "output_type": "execute_result"
    }
   ],
   "source": [
    "df_app.head()"
   ]
  },
  {
   "cell_type": "code",
   "execution_count": 5,
   "id": "7cb3047e",
   "metadata": {},
   "outputs": [
    {
     "data": {
      "text/plain": [
       "Index(['Unnamed: 0', 'SK_ID_CURR', 'TARGET', 'NAME_CONTRACT_TYPE',\n",
       "       'CODE_GENDER', 'FLAG_OWN_CAR', 'FLAG_OWN_REALTY', 'CNT_CHILDREN',\n",
       "       'AMT_INCOME_TOTAL', 'AMT_CREDIT', 'AMT_ANNUITY', 'AMT_GOODS_PRICE',\n",
       "       'NAME_INCOME_TYPE', 'NAME_EDUCATION_TYPE', 'NAME_FAMILY_STATUS',\n",
       "       'NAME_HOUSING_TYPE', 'REGION_POPULATION_RELATIVE', 'DAYS_BIRTH',\n",
       "       'DAYS_EMPLOYED', 'OWN_CAR_AGE', 'OCCUPATION_TYPE', 'CNT_FAM_MEMBERS',\n",
       "       'REGION_RATING_CLIENT', 'REGION_RATING_CLIENT_W_CITY',\n",
       "       'ORGANIZATION_TYPE', 'AMT_REQ_CREDIT_BUREAU_YEAR'],\n",
       "      dtype='object')"
      ]
     },
     "execution_count": 5,
     "metadata": {},
     "output_type": "execute_result"
    }
   ],
   "source": [
    "df_app.columns"
   ]
  },
  {
   "cell_type": "code",
   "execution_count": null,
   "id": "08817ed3",
   "metadata": {},
   "outputs": [],
   "source": []
  },
  {
   "cell_type": "markdown",
   "id": "a11d5b14",
   "metadata": {},
   "source": [
    "# 1.2 Applying the Logistical regression"
   ]
  },
  {
   "cell_type": "code",
   "execution_count": 6,
   "id": "05e6b5b6",
   "metadata": {},
   "outputs": [],
   "source": [
    "# splitting data in train and test\n",
    "from sklearn.model_selection import train_test_split"
   ]
  },
  {
   "cell_type": "code",
   "execution_count": 7,
   "id": "d30a98dd",
   "metadata": {},
   "outputs": [],
   "source": [
    "# using only the numeric features\n",
    "features = ['CNT_CHILDREN',\n",
    "            'AMT_INCOME_TOTAL',\n",
    "            'AMT_CREDIT',\n",
    "            'AMT_ANNUITY',\n",
    "            'AMT_GOODS_PRICE',\n",
    "            'REGION_POPULATION_RELATIVE',\n",
    "            'DAYS_BIRTH',   \n",
    "            'DAYS_EMPLOYED',   \n",
    "            'OWN_CAR_AGE', \n",
    "            'CNT_FAM_MEMBERS', \n",
    "            'REGION_RATING_CLIENT',\n",
    "            'REGION_RATING_CLIENT_W_CITY', \n",
    "            'AMT_REQ_CREDIT_BUREAU_YEAR']\n",
    "\n",
    "X =  df_app[features]\n",
    "y =  df_app['TARGET']"
   ]
  },
  {
   "cell_type": "code",
   "execution_count": 8,
   "id": "c1cd7fc1",
   "metadata": {},
   "outputs": [],
   "source": [
    "X_train, X_test, y_train, y_test = train_test_split(X, y, test_size=0.20, random_state=42)"
   ]
  },
  {
   "cell_type": "code",
   "execution_count": 9,
   "id": "c0a7aa2f",
   "metadata": {},
   "outputs": [],
   "source": [
    "# training and adjusting the logistic regression model in train set\n",
    "\n",
    "from sklearn.linear_model import LogisticRegression\n",
    "from sklearn.metrics import classification_report\n",
    "from sklearn.metrics import accuracy_score"
   ]
  },
  {
   "cell_type": "code",
   "execution_count": 10,
   "id": "a2befbdb",
   "metadata": {},
   "outputs": [],
   "source": [
    "logmodel = LogisticRegression()"
   ]
  },
  {
   "cell_type": "code",
   "execution_count": 11,
   "id": "3de2020a",
   "metadata": {},
   "outputs": [
    {
     "data": {
      "text/plain": [
       "LogisticRegression()"
      ]
     },
     "execution_count": 11,
     "metadata": {},
     "output_type": "execute_result"
    }
   ],
   "source": [
    "logmodel.fit(X_train,y_train)"
   ]
  },
  {
   "cell_type": "markdown",
   "id": "e72ac7c2",
   "metadata": {},
   "source": [
    "# 1.3 Evaluating the regression model"
   ]
  },
  {
   "cell_type": "code",
   "execution_count": 12,
   "id": "11ff54ba",
   "metadata": {},
   "outputs": [],
   "source": [
    "# prediction \n",
    "ỹ_test = logmodel.predict(X_test)"
   ]
  },
  {
   "cell_type": "code",
   "execution_count": 13,
   "id": "a6ae9d96",
   "metadata": {},
   "outputs": [
    {
     "data": {
      "text/plain": [
       "0.9195161211648212"
      ]
     },
     "execution_count": 13,
     "metadata": {},
     "output_type": "execute_result"
    }
   ],
   "source": [
    "\n",
    "accuracy_score(y_test, ỹ_test)"
   ]
  },
  {
   "cell_type": "code",
   "execution_count": 14,
   "id": "e045a0e4",
   "metadata": {},
   "outputs": [
    {
     "name": "stdout",
     "output_type": "stream",
     "text": [
      "              precision    recall  f1-score   support\n",
      "\n",
      "           0       0.92      1.00      0.96     56554\n",
      "           1       0.00      0.00      0.00      4949\n",
      "\n",
      "    accuracy                           0.92     61503\n",
      "   macro avg       0.46      0.50      0.48     61503\n",
      "weighted avg       0.85      0.92      0.88     61503\n",
      "\n"
     ]
    }
   ],
   "source": [
    "print(classification_report(y_test,ỹ_test))"
   ]
  },
  {
   "cell_type": "code",
   "execution_count": 15,
   "id": "e3118019",
   "metadata": {},
   "outputs": [
    {
     "data": {
      "text/html": [
       "<div>\n",
       "<style scoped>\n",
       "    .dataframe tbody tr th:only-of-type {\n",
       "        vertical-align: middle;\n",
       "    }\n",
       "\n",
       "    .dataframe tbody tr th {\n",
       "        vertical-align: top;\n",
       "    }\n",
       "\n",
       "    .dataframe thead th {\n",
       "        text-align: right;\n",
       "    }\n",
       "</style>\n",
       "<table border=\"1\" class=\"dataframe\">\n",
       "  <thead>\n",
       "    <tr style=\"text-align: right;\">\n",
       "      <th>Predito</th>\n",
       "      <th>0</th>\n",
       "      <th>1</th>\n",
       "      <th>All</th>\n",
       "    </tr>\n",
       "    <tr>\n",
       "      <th>Real</th>\n",
       "      <th></th>\n",
       "      <th></th>\n",
       "      <th></th>\n",
       "    </tr>\n",
       "  </thead>\n",
       "  <tbody>\n",
       "    <tr>\n",
       "      <th>0</th>\n",
       "      <td>56553</td>\n",
       "      <td>1</td>\n",
       "      <td>56554</td>\n",
       "    </tr>\n",
       "    <tr>\n",
       "      <th>1</th>\n",
       "      <td>4949</td>\n",
       "      <td>0</td>\n",
       "      <td>4949</td>\n",
       "    </tr>\n",
       "    <tr>\n",
       "      <th>All</th>\n",
       "      <td>61502</td>\n",
       "      <td>1</td>\n",
       "      <td>61503</td>\n",
       "    </tr>\n",
       "  </tbody>\n",
       "</table>\n",
       "</div>"
      ],
      "text/plain": [
       "Predito      0  1    All\n",
       "Real                    \n",
       "0        56553  1  56554\n",
       "1         4949  0   4949\n",
       "All      61502  1  61503"
      ]
     },
     "execution_count": 15,
     "metadata": {},
     "output_type": "execute_result"
    }
   ],
   "source": [
    "\n",
    "#print (\n",
    "pd.crosstab(y_test,ỹ_test, rownames=['Real'], colnames=['Predito'], margins=True)\n",
    "#)"
   ]
  },
  {
   "cell_type": "code",
   "execution_count": 16,
   "id": "1bb3055c",
   "metadata": {},
   "outputs": [],
   "source": [
    "# metrics.accuracy_score(y_test, ỹ_test)\n",
    "\n",
    "# because the model is not balanced the estimation of the \n",
    "# the CATEGORIC 1 - WHO HAVE PROBLEMS TO PAY THE LOAN HAVE NOT GOOD RESULT"
   ]
  },
  {
   "cell_type": "markdown",
   "id": "0e37de00",
   "metadata": {},
   "source": [
    "# 2 Showing unbalanced aspects of  THE DATA"
   ]
  },
  {
   "cell_type": "code",
   "execution_count": 17,
   "id": "5693126c",
   "metadata": {},
   "outputs": [
    {
     "name": "stdout",
     "output_type": "stream",
     "text": [
      "% with dificult in pay = 8.072881945686495\n",
      " numbers with dificult in pay = 24825\n",
      " \n",
      " % without dificult in pay = 91.92711805431351\n",
      "numbers without dificult in pay = 282686\n"
     ]
    }
   ],
   "source": [
    "# REVIEWING DATA ASPECTS\n",
    "pay_diff=df_app[df_app.TARGET==1]\n",
    "pay=df_app[df_app.TARGET==0]\n",
    "\n",
    "# % withh dificult in pay\n",
    "a=pay_diff['TARGET'].sum()/df_app['TARGET'].shape[0]*100\n",
    "print('% with dificult in pay =', a)\n",
    "a=pay_diff['TARGET'].sum()#/df_app['TARGET'].shape[0]*100\n",
    "print(' numbers with dificult in pay =', a)\n",
    "\n",
    "\n",
    "# % who didn't had problem in pay\n",
    "a=len(pay['TARGET'])/df_app['TARGET'].shape[0]*100\n",
    "print(' \\n % without dificult in pay =', a)\n",
    "# sum of 0 was 0\n",
    "\n",
    "a=len(pay['TARGET'])#/df_app['TARGET'].shape[0]*100\n",
    "print('numbers without dificult in pay =', a)"
   ]
  },
  {
   "cell_type": "code",
   "execution_count": 18,
   "id": "8de4e424",
   "metadata": {},
   "outputs": [
    {
     "data": {
      "text/plain": [
       "Text(0.5, 1.0, 'TARGET per GENDER')"
      ]
     },
     "execution_count": 18,
     "metadata": {},
     "output_type": "execute_result"
    },
    {
     "data": {
      "image/png": "[encoded data removed]",
      "text/plain": [
       "<Figure size 720x360 with 2 Axes>"
      ]
     },
     "metadata": {
      "needs_background": "light"
     },
     "output_type": "display_data"
    }
   ],
   "source": [
    "#\n",
    "fig, ax =plt.subplots(1,2,figsize=(10,5))\n",
    "plt.tight_layout(2)\n",
    "\n",
    "#/df_app.shape[0]*100\n",
    "sns.countplot(df_app['TARGET'], palette='magma',ax=ax[0]).set_title('TARGET')\n",
    "sns.countplot(df_app['CODE_GENDER'], hue=df_app.TARGET, palette='magma',ax=ax[1]).set_title('TARGET per GENDER')\n",
    "\n",
    "# Acording with the dictionary we have a TARGET where  \n",
    "# 1- the client have the dificult to pay\n",
    "# 0- the client don't have dificult to pay\n",
    "\n",
    "# it is noticed that the target is highly unbalanced\n",
    "# women borrow more\n",
    "# but in proportion to the difficulty in performing the pattern similar to the men's difficulty\n",
    "\n",
    "## make some code of agreggations and generat tables?"
   ]
  },
  {
   "cell_type": "code",
   "execution_count": 19,
   "id": "9ec9f85f",
   "metadata": {},
   "outputs": [],
   "source": [
    "# TRANSFORMA COLUNAS CATEGORICAS EM NUMERICAS\n",
    "# df = pd.get_dummies(df)"
   ]
  },
  {
   "cell_type": "markdown",
   "id": "269d1f0b",
   "metadata": {},
   "source": [
    "# 3 Apply NearMiss\n",
    "- Undersampling metod\n",
    "- equaling the sampling classes in the minor quantity (reducing the largest one)\n",
    "\n",
    "https://imbalanced-learn.org/dev/references/generated/imblearn.under_sampling.NearMiss.html"
   ]
  },
  {
   "cell_type": "code",
   "execution_count": 20,
   "id": "72b734ba",
   "metadata": {},
   "outputs": [],
   "source": [
    "#!pip install imblearn"
   ]
  },
  {
   "cell_type": "code",
   "execution_count": 21,
   "id": "69f22da3",
   "metadata": {
    "scrolled": false
   },
   "outputs": [],
   "source": [
    "from imblearn.under_sampling import NearMiss "
   ]
  },
  {
   "cell_type": "code",
   "execution_count": 22,
   "id": "f131d3fa",
   "metadata": {},
   "outputs": [],
   "source": [
    "#instance of NearMiss\n",
    "nr = NearMiss()"
   ]
  },
  {
   "cell_type": "code",
   "execution_count": 23,
   "id": "a1428d12",
   "metadata": {},
   "outputs": [],
   "source": [
    "# copy the data classes\n",
    "X1 = X\n",
    "y1 = y"
   ]
  },
  {
   "cell_type": "code",
   "execution_count": 24,
   "id": "fabbcbee",
   "metadata": {},
   "outputs": [
    {
     "data": {
      "text/html": [
       "<div>\n",
       "<style scoped>\n",
       "    .dataframe tbody tr th:only-of-type {\n",
       "        vertical-align: middle;\n",
       "    }\n",
       "\n",
       "    .dataframe tbody tr th {\n",
       "        vertical-align: top;\n",
       "    }\n",
       "\n",
       "    .dataframe thead th {\n",
       "        text-align: right;\n",
       "    }\n",
       "</style>\n",
       "<table border=\"1\" class=\"dataframe\">\n",
       "  <thead>\n",
       "    <tr style=\"text-align: right;\">\n",
       "      <th></th>\n",
       "      <th>CNT_CHILDREN</th>\n",
       "      <th>AMT_INCOME_TOTAL</th>\n",
       "      <th>AMT_CREDIT</th>\n",
       "      <th>AMT_ANNUITY</th>\n",
       "      <th>AMT_GOODS_PRICE</th>\n",
       "      <th>REGION_POPULATION_RELATIVE</th>\n",
       "      <th>DAYS_BIRTH</th>\n",
       "      <th>DAYS_EMPLOYED</th>\n",
       "      <th>OWN_CAR_AGE</th>\n",
       "      <th>CNT_FAM_MEMBERS</th>\n",
       "      <th>REGION_RATING_CLIENT</th>\n",
       "      <th>REGION_RATING_CLIENT_W_CITY</th>\n",
       "      <th>AMT_REQ_CREDIT_BUREAU_YEAR</th>\n",
       "    </tr>\n",
       "  </thead>\n",
       "  <tbody>\n",
       "    <tr>\n",
       "      <th>0</th>\n",
       "      <td>0</td>\n",
       "      <td>202500.0</td>\n",
       "      <td>406597.5</td>\n",
       "      <td>24700.5</td>\n",
       "      <td>351000.0</td>\n",
       "      <td>0.018801</td>\n",
       "      <td>9461</td>\n",
       "      <td>637</td>\n",
       "      <td>9.0</td>\n",
       "      <td>1.0</td>\n",
       "      <td>2</td>\n",
       "      <td>2</td>\n",
       "      <td>1.0</td>\n",
       "    </tr>\n",
       "    <tr>\n",
       "      <th>1</th>\n",
       "      <td>0</td>\n",
       "      <td>270000.0</td>\n",
       "      <td>1293502.5</td>\n",
       "      <td>35698.5</td>\n",
       "      <td>1129500.0</td>\n",
       "      <td>0.003541</td>\n",
       "      <td>16765</td>\n",
       "      <td>1188</td>\n",
       "      <td>9.0</td>\n",
       "      <td>2.0</td>\n",
       "      <td>1</td>\n",
       "      <td>1</td>\n",
       "      <td>0.0</td>\n",
       "    </tr>\n",
       "    <tr>\n",
       "      <th>2</th>\n",
       "      <td>0</td>\n",
       "      <td>67500.0</td>\n",
       "      <td>135000.0</td>\n",
       "      <td>6750.0</td>\n",
       "      <td>135000.0</td>\n",
       "      <td>0.010032</td>\n",
       "      <td>19046</td>\n",
       "      <td>225</td>\n",
       "      <td>26.0</td>\n",
       "      <td>1.0</td>\n",
       "      <td>2</td>\n",
       "      <td>2</td>\n",
       "      <td>0.0</td>\n",
       "    </tr>\n",
       "    <tr>\n",
       "      <th>3</th>\n",
       "      <td>0</td>\n",
       "      <td>135000.0</td>\n",
       "      <td>312682.5</td>\n",
       "      <td>29686.5</td>\n",
       "      <td>297000.0</td>\n",
       "      <td>0.008019</td>\n",
       "      <td>19005</td>\n",
       "      <td>3039</td>\n",
       "      <td>9.0</td>\n",
       "      <td>2.0</td>\n",
       "      <td>2</td>\n",
       "      <td>2</td>\n",
       "      <td>1.0</td>\n",
       "    </tr>\n",
       "    <tr>\n",
       "      <th>4</th>\n",
       "      <td>0</td>\n",
       "      <td>121500.0</td>\n",
       "      <td>513000.0</td>\n",
       "      <td>21865.5</td>\n",
       "      <td>513000.0</td>\n",
       "      <td>0.028663</td>\n",
       "      <td>19932</td>\n",
       "      <td>3038</td>\n",
       "      <td>9.0</td>\n",
       "      <td>1.0</td>\n",
       "      <td>2</td>\n",
       "      <td>2</td>\n",
       "      <td>0.0</td>\n",
       "    </tr>\n",
       "  </tbody>\n",
       "</table>\n",
       "</div>"
      ],
      "text/plain": [
       "   CNT_CHILDREN  AMT_INCOME_TOTAL  AMT_CREDIT  AMT_ANNUITY  AMT_GOODS_PRICE  \\\n",
       "0             0          202500.0    406597.5      24700.5         351000.0   \n",
       "1             0          270000.0   1293502.5      35698.5        1129500.0   \n",
       "2             0           67500.0    135000.0       6750.0         135000.0   \n",
       "3             0          135000.0    312682.5      29686.5         297000.0   \n",
       "4             0          121500.0    513000.0      21865.5         513000.0   \n",
       "\n",
       "   REGION_POPULATION_RELATIVE  DAYS_BIRTH  DAYS_EMPLOYED  OWN_CAR_AGE  \\\n",
       "0                    0.018801        9461            637          9.0   \n",
       "1                    0.003541       16765           1188          9.0   \n",
       "2                    0.010032       19046            225         26.0   \n",
       "3                    0.008019       19005           3039          9.0   \n",
       "4                    0.028663       19932           3038          9.0   \n",
       "\n",
       "   CNT_FAM_MEMBERS  REGION_RATING_CLIENT  REGION_RATING_CLIENT_W_CITY  \\\n",
       "0              1.0                     2                            2   \n",
       "1              2.0                     1                            1   \n",
       "2              1.0                     2                            2   \n",
       "3              2.0                     2                            2   \n",
       "4              1.0                     2                            2   \n",
       "\n",
       "   AMT_REQ_CREDIT_BUREAU_YEAR  \n",
       "0                         1.0  \n",
       "1                         0.0  \n",
       "2                         0.0  \n",
       "3                         1.0  \n",
       "4                         0.0  "
      ]
     },
     "execution_count": 24,
     "metadata": {},
     "output_type": "execute_result"
    }
   ],
   "source": [
    "X1.head() "
   ]
  },
  {
   "cell_type": "code",
   "execution_count": 25,
   "id": "a9e89473",
   "metadata": {},
   "outputs": [
    {
     "data": {
      "text/plain": [
       "0    1\n",
       "1    0\n",
       "2    0\n",
       "3    0\n",
       "4    0\n",
       "Name: TARGET, dtype: int64"
      ]
     },
     "execution_count": 25,
     "metadata": {},
     "output_type": "execute_result"
    }
   ],
   "source": [
    "y1.head()"
   ]
  },
  {
   "cell_type": "code",
   "execution_count": 26,
   "id": "5a262e2c",
   "metadata": {},
   "outputs": [],
   "source": [
    "# aply to make the classes equal\n",
    "X1, y1 = nr.fit_resample(X1,y1)"
   ]
  },
  {
   "cell_type": "code",
   "execution_count": 27,
   "id": "556d5b41",
   "metadata": {},
   "outputs": [
    {
     "data": {
      "image/png": "[encoded data removed]",
      "text/plain": [
       "<Figure size 432x288 with 1 Axes>"
      ]
     },
     "metadata": {
      "needs_background": "light"
     },
     "output_type": "display_data"
    }
   ],
   "source": [
    "# verify the quantity of the class \n",
    "ax = sns.countplot(x=y1)"
   ]
  },
  {
   "cell_type": "markdown",
   "id": "5333c32f",
   "metadata": {},
   "source": [
    "# 3.1 Aplying logistic regression in data after the NearMiss"
   ]
  },
  {
   "cell_type": "code",
   "execution_count": 28,
   "id": "b7f6cd16",
   "metadata": {},
   "outputs": [],
   "source": [
    "# spliting data\n",
    "X_train1, X_test1, y_train1, y_test1 = train_test_split(X1, y1, test_size=0.20, random_state=42)"
   ]
  },
  {
   "cell_type": "code",
   "execution_count": 29,
   "id": "17de0d85",
   "metadata": {},
   "outputs": [
    {
     "data": {
      "text/plain": [
       "LogisticRegression()"
      ]
     },
     "execution_count": 29,
     "metadata": {},
     "output_type": "execute_result"
    }
   ],
   "source": [
    "logmodel_1 = LogisticRegression()\n",
    "logmodel_1.fit(X_train1,y_train1)"
   ]
  },
  {
   "cell_type": "code",
   "execution_count": 30,
   "id": "7a35bed4",
   "metadata": {},
   "outputs": [
    {
     "data": {
      "text/plain": [
       "0.641792547834844"
      ]
     },
     "execution_count": 30,
     "metadata": {},
     "output_type": "execute_result"
    }
   ],
   "source": [
    "ỹ_test1 = logmodel_1.predict(X_test1)\n",
    "accuracy_score(y_test1, ỹ_test1)\n",
    "# in this balanced dataset the accuary score was less than in the unbalanced dataset"
   ]
  },
  {
   "cell_type": "code",
   "execution_count": 31,
   "id": "fba8445a",
   "metadata": {},
   "outputs": [
    {
     "name": "stdout",
     "output_type": "stream",
     "text": [
      "              precision    recall  f1-score   support\n",
      "\n",
      "           0       0.65      0.61      0.63      4953\n",
      "           1       0.64      0.67      0.65      4977\n",
      "\n",
      "    accuracy                           0.64      9930\n",
      "   macro avg       0.64      0.64      0.64      9930\n",
      "weighted avg       0.64      0.64      0.64      9930\n",
      "\n"
     ]
    }
   ],
   "source": [
    "print(classification_report(y_test1,ỹ_test1))\n",
    "\n",
    "# differently of the 1 Atempt where we were not able to estimate the class with less samples CLASS 1 (DIFICULT IN PAY)\n",
    "# BUT because of the reduction of the data we had a decresead in the indicators \n",
    "# precision\n",
    "# recall \n",
    "# f1-score\n"
   ]
  },
  {
   "cell_type": "code",
   "execution_count": 32,
   "id": "0d13f4b8",
   "metadata": {},
   "outputs": [
    {
     "data": {
      "text/html": [
       "<div>\n",
       "<style scoped>\n",
       "    .dataframe tbody tr th:only-of-type {\n",
       "        vertical-align: middle;\n",
       "    }\n",
       "\n",
       "    .dataframe tbody tr th {\n",
       "        vertical-align: top;\n",
       "    }\n",
       "\n",
       "    .dataframe thead th {\n",
       "        text-align: right;\n",
       "    }\n",
       "</style>\n",
       "<table border=\"1\" class=\"dataframe\">\n",
       "  <thead>\n",
       "    <tr style=\"text-align: right;\">\n",
       "      <th>Predito</th>\n",
       "      <th>0</th>\n",
       "      <th>1</th>\n",
       "      <th>All</th>\n",
       "    </tr>\n",
       "    <tr>\n",
       "      <th>Real</th>\n",
       "      <th></th>\n",
       "      <th></th>\n",
       "      <th></th>\n",
       "    </tr>\n",
       "  </thead>\n",
       "  <tbody>\n",
       "    <tr>\n",
       "      <th>0</th>\n",
       "      <td>3038</td>\n",
       "      <td>1915</td>\n",
       "      <td>4953</td>\n",
       "    </tr>\n",
       "    <tr>\n",
       "      <th>1</th>\n",
       "      <td>1642</td>\n",
       "      <td>3335</td>\n",
       "      <td>4977</td>\n",
       "    </tr>\n",
       "    <tr>\n",
       "      <th>All</th>\n",
       "      <td>4680</td>\n",
       "      <td>5250</td>\n",
       "      <td>9930</td>\n",
       "    </tr>\n",
       "  </tbody>\n",
       "</table>\n",
       "</div>"
      ],
      "text/plain": [
       "Predito     0     1   All\n",
       "Real                     \n",
       "0        3038  1915  4953\n",
       "1        1642  3335  4977\n",
       "All      4680  5250  9930"
      ]
     },
     "execution_count": 32,
     "metadata": {},
     "output_type": "execute_result"
    }
   ],
   "source": [
    "#print (\n",
    "pd.crosstab(y_test1,ỹ_test1, rownames=['Real'], colnames=['Predito'], margins=True)\n",
    "#)"
   ]
  },
  {
   "cell_type": "markdown",
   "id": "61b60892",
   "metadata": {},
   "source": [
    "# 3.2 increasing the size test to 30%"
   ]
  },
  {
   "cell_type": "code",
   "execution_count": 33,
   "id": "84dc0083",
   "metadata": {},
   "outputs": [],
   "source": [
    "# spliting data\n",
    "X_train1, X_test1, y_train1, y_test1 = train_test_split(X1, y1, test_size=0.30, random_state=42)"
   ]
  },
  {
   "cell_type": "code",
   "execution_count": 34,
   "id": "a3717b83",
   "metadata": {},
   "outputs": [
    {
     "data": {
      "text/plain": [
       "0.6395434709634106"
      ]
     },
     "execution_count": 34,
     "metadata": {},
     "output_type": "execute_result"
    }
   ],
   "source": [
    "ỹ_test1 = logmodel_1.predict(X_test1)\n",
    "accuracy_score(y_test1, ỹ_test1)\n"
   ]
  },
  {
   "cell_type": "code",
   "execution_count": 35,
   "id": "03cf077b",
   "metadata": {},
   "outputs": [
    {
     "name": "stdout",
     "output_type": "stream",
     "text": [
      "              precision    recall  f1-score   support\n",
      "\n",
      "           0       0.65      0.61      0.63      7436\n",
      "           1       0.63      0.67      0.65      7459\n",
      "\n",
      "    accuracy                           0.64     14895\n",
      "   macro avg       0.64      0.64      0.64     14895\n",
      "weighted avg       0.64      0.64      0.64     14895\n",
      "\n"
     ]
    }
   ],
   "source": [
    "print(classification_report(y_test1,ỹ_test1))\n",
    "# the increasing to 30% in test size apparently did not shown an expressive change in the indicators of the classification"
   ]
  },
  {
   "cell_type": "code",
   "execution_count": 36,
   "id": "884349ae",
   "metadata": {},
   "outputs": [
    {
     "data": {
      "text/html": [
       "<div>\n",
       "<style scoped>\n",
       "    .dataframe tbody tr th:only-of-type {\n",
       "        vertical-align: middle;\n",
       "    }\n",
       "\n",
       "    .dataframe tbody tr th {\n",
       "        vertical-align: top;\n",
       "    }\n",
       "\n",
       "    .dataframe thead th {\n",
       "        text-align: right;\n",
       "    }\n",
       "</style>\n",
       "<table border=\"1\" class=\"dataframe\">\n",
       "  <thead>\n",
       "    <tr style=\"text-align: right;\">\n",
       "      <th>Predito</th>\n",
       "      <th>0</th>\n",
       "      <th>1</th>\n",
       "      <th>All</th>\n",
       "    </tr>\n",
       "    <tr>\n",
       "      <th>Real</th>\n",
       "      <th></th>\n",
       "      <th></th>\n",
       "      <th></th>\n",
       "    </tr>\n",
       "  </thead>\n",
       "  <tbody>\n",
       "    <tr>\n",
       "      <th>0</th>\n",
       "      <td>4508</td>\n",
       "      <td>2928</td>\n",
       "      <td>7436</td>\n",
       "    </tr>\n",
       "    <tr>\n",
       "      <th>1</th>\n",
       "      <td>2441</td>\n",
       "      <td>5018</td>\n",
       "      <td>7459</td>\n",
       "    </tr>\n",
       "    <tr>\n",
       "      <th>All</th>\n",
       "      <td>6949</td>\n",
       "      <td>7946</td>\n",
       "      <td>14895</td>\n",
       "    </tr>\n",
       "  </tbody>\n",
       "</table>\n",
       "</div>"
      ],
      "text/plain": [
       "Predito     0     1    All\n",
       "Real                      \n",
       "0        4508  2928   7436\n",
       "1        2441  5018   7459\n",
       "All      6949  7946  14895"
      ]
     },
     "execution_count": 36,
     "metadata": {},
     "output_type": "execute_result"
    }
   ],
   "source": [
    "#print (\n",
    "pd.crosstab(y_test1,ỹ_test1, rownames=['Real'], colnames=['Predito'], margins=True)\n",
    "#)"
   ]
  },
  {
   "cell_type": "markdown",
   "id": "af517704",
   "metadata": {},
   "source": [
    "#  4 SMOTE (Synthetic Minority Over-sampling Technique)\n",
    "- Sintetic Data was generated of the minor class\n",
    "\n",
    "###### https://imbalanced-learn.org/stable/references/generated/imblearn.over_sampling.SMOTE.html\n",
    "\n",
    "###### https://machinelearningmastery.com/smote-oversampling-for-imbalanced-classification/"
   ]
  },
  {
   "cell_type": "code",
   "execution_count": 37,
   "id": "914730cd",
   "metadata": {},
   "outputs": [],
   "source": [
    "# copy the data classes\n",
    "X2 = X\n",
    "y2 = y"
   ]
  },
  {
   "cell_type": "code",
   "execution_count": 38,
   "id": "e1956423",
   "metadata": {},
   "outputs": [
    {
     "data": {
      "text/plain": [
       "array([282686,  24825], dtype=int64)"
      ]
     },
     "execution_count": 38,
     "metadata": {},
     "output_type": "execute_result"
    }
   ],
   "source": [
    "# seeing data per class\n",
    "np.bincount(y2)"
   ]
  },
  {
   "cell_type": "code",
   "execution_count": 39,
   "id": "766ce08a",
   "metadata": {},
   "outputs": [
    {
     "data": {
      "image/png": "[encoded data removed]",
      "text/plain": [
       "<Figure size 432x288 with 1 Axes>"
      ]
     },
     "metadata": {
      "needs_background": "light"
     },
     "output_type": "display_data"
    }
   ],
   "source": [
    "ax = sns.countplot(x=y2)"
   ]
  },
  {
   "cell_type": "code",
   "execution_count": 40,
   "id": "90b29d56",
   "metadata": {},
   "outputs": [],
   "source": [
    "from imblearn.over_sampling import SMOTE\n",
    "# Instantiate SMOTE\n",
    "# sampling_strategy=0.5\n",
    "#  \\alpha_{os} = N_{rm} / N_{M}\n",
    "smt = SMOTE(sampling_strategy=1)"
   ]
  },
  {
   "cell_type": "code",
   "execution_count": 41,
   "id": "a50e0fd2",
   "metadata": {},
   "outputs": [],
   "source": [
    "# Aply soomte in the dataset\n",
    "X2, y2 = smt.fit_resample(X2,y2)\n",
    "#fit_sample(X, y)"
   ]
  },
  {
   "cell_type": "code",
   "execution_count": 42,
   "id": "74f67a38",
   "metadata": {},
   "outputs": [
    {
     "data": {
      "text/plain": [
       "array([282686, 282686], dtype=int64)"
      ]
     },
     "execution_count": 42,
     "metadata": {},
     "output_type": "execute_result"
    }
   ],
   "source": [
    "# seeing data per class\n",
    "np.bincount(y2)"
   ]
  },
  {
   "cell_type": "code",
   "execution_count": 43,
   "id": "8ac326b7",
   "metadata": {},
   "outputs": [
    {
     "data": {
      "image/png": "[encoded data removed]",
      "text/plain": [
       "<Figure size 432x288 with 1 Axes>"
      ]
     },
     "metadata": {
      "needs_background": "light"
     },
     "output_type": "display_data"
    }
   ],
   "source": [
    "ax = sns.countplot(x=y2)"
   ]
  },
  {
   "cell_type": "markdown",
   "id": "f842d21d",
   "metadata": {},
   "source": [
    "# 4.1 Aplying logistic regression in data after the SMOTE"
   ]
  },
  {
   "cell_type": "code",
   "execution_count": 44,
   "id": "dfe0aaf4",
   "metadata": {},
   "outputs": [],
   "source": [
    "# spliting data\n",
    "X_train2, X_test2, y_train2, y_test2 = train_test_split(X2, y2, test_size=0.20, random_state=42)"
   ]
  },
  {
   "cell_type": "code",
   "execution_count": 45,
   "id": "eca9908f",
   "metadata": {},
   "outputs": [
    {
     "data": {
      "text/plain": [
       "LogisticRegression()"
      ]
     },
     "execution_count": 45,
     "metadata": {},
     "output_type": "execute_result"
    }
   ],
   "source": [
    "logmodel_2 = LogisticRegression()\n",
    "logmodel_2.fit(X_train2,y_train2)"
   ]
  },
  {
   "cell_type": "code",
   "execution_count": 46,
   "id": "7c5af55b",
   "metadata": {},
   "outputs": [
    {
     "data": {
      "text/plain": [
       "0.5747954897192129"
      ]
     },
     "execution_count": 46,
     "metadata": {},
     "output_type": "execute_result"
    }
   ],
   "source": [
    "ỹ_test2 = logmodel_2.predict(X_test2)\n",
    "accuracy_score(y_test2, ỹ_test2)"
   ]
  },
  {
   "cell_type": "code",
   "execution_count": 47,
   "id": "cfe427ed",
   "metadata": {},
   "outputs": [
    {
     "name": "stdout",
     "output_type": "stream",
     "text": [
      "              precision    recall  f1-score   support\n",
      "\n",
      "           0       0.57      0.58      0.58     56536\n",
      "           1       0.58      0.56      0.57     56539\n",
      "\n",
      "    accuracy                           0.57    113075\n",
      "   macro avg       0.57      0.57      0.57    113075\n",
      "weighted avg       0.57      0.57      0.57    113075\n",
      "\n"
     ]
    }
   ],
   "source": [
    "print(classification_report(y_test2,ỹ_test2))\n",
    "# not only the accuracy but the others metrics were worst than the case of the NearMiss"
   ]
  },
  {
   "cell_type": "code",
   "execution_count": 48,
   "id": "639f0f72",
   "metadata": {},
   "outputs": [
    {
     "data": {
      "text/html": [
       "<div>\n",
       "<style scoped>\n",
       "    .dataframe tbody tr th:only-of-type {\n",
       "        vertical-align: middle;\n",
       "    }\n",
       "\n",
       "    .dataframe tbody tr th {\n",
       "        vertical-align: top;\n",
       "    }\n",
       "\n",
       "    .dataframe thead th {\n",
       "        text-align: right;\n",
       "    }\n",
       "</style>\n",
       "<table border=\"1\" class=\"dataframe\">\n",
       "  <thead>\n",
       "    <tr style=\"text-align: right;\">\n",
       "      <th>Predito</th>\n",
       "      <th>0</th>\n",
       "      <th>1</th>\n",
       "      <th>All</th>\n",
       "    </tr>\n",
       "    <tr>\n",
       "      <th>Real</th>\n",
       "      <th></th>\n",
       "      <th></th>\n",
       "      <th></th>\n",
       "    </tr>\n",
       "  </thead>\n",
       "  <tbody>\n",
       "    <tr>\n",
       "      <th>0</th>\n",
       "      <td>33052</td>\n",
       "      <td>23484</td>\n",
       "      <td>56536</td>\n",
       "    </tr>\n",
       "    <tr>\n",
       "      <th>1</th>\n",
       "      <td>24596</td>\n",
       "      <td>31943</td>\n",
       "      <td>56539</td>\n",
       "    </tr>\n",
       "    <tr>\n",
       "      <th>All</th>\n",
       "      <td>57648</td>\n",
       "      <td>55427</td>\n",
       "      <td>113075</td>\n",
       "    </tr>\n",
       "  </tbody>\n",
       "</table>\n",
       "</div>"
      ],
      "text/plain": [
       "Predito      0      1     All\n",
       "Real                         \n",
       "0        33052  23484   56536\n",
       "1        24596  31943   56539\n",
       "All      57648  55427  113075"
      ]
     },
     "execution_count": 48,
     "metadata": {},
     "output_type": "execute_result"
    }
   ],
   "source": [
    "#print (\n",
    "pd.crosstab(y_test2,ỹ_test2, rownames=['Real'], colnames=['Predito'], margins=True)\n",
    "#)"
   ]
  },
  {
   "cell_type": "code",
   "execution_count": 49,
   "id": "c5f6d200",
   "metadata": {},
   "outputs": [],
   "source": [
    "#from imblearn.over_sampling import fit\n",
    "#fit(X2,y2)"
   ]
  },
  {
   "cell_type": "markdown",
   "id": "791fa830",
   "metadata": {},
   "source": [
    "# 4.2 Change SMOTE parameters"
   ]
  },
  {
   "cell_type": "code",
   "execution_count": 78,
   "id": "c9bb2ff0",
   "metadata": {},
   "outputs": [],
   "source": [
    "#  \\alpha_{os} = N_{rm} / N_{M} minoriy/maiority classes\n",
    "# copy the data classes\n",
    "X2 = X\n",
    "y2 = y\n",
    "smt2 = SMOTE(sampling_strategy=1,k_neighbors=2)"
   ]
  },
  {
   "cell_type": "code",
   "execution_count": 79,
   "id": "bd75d0bf",
   "metadata": {},
   "outputs": [
    {
     "data": {
      "text/plain": [
       "array([282686,  24825], dtype=int64)"
      ]
     },
     "execution_count": 79,
     "metadata": {},
     "output_type": "execute_result"
    }
   ],
   "source": [
    "np.bincount(y2)"
   ]
  },
  {
   "cell_type": "code",
   "execution_count": 80,
   "id": "3d01c80d",
   "metadata": {},
   "outputs": [],
   "source": [
    "# Aply soomte in the dataset\n",
    "X2, y2 = smt2.fit_resample(X2,y2)\n",
    "#fit_sample(X, y)"
   ]
  },
  {
   "cell_type": "code",
   "execution_count": 81,
   "id": "a2fdf7b9",
   "metadata": {},
   "outputs": [
    {
     "data": {
      "text/plain": [
       "array([282686, 282686], dtype=int64)"
      ]
     },
     "execution_count": 81,
     "metadata": {},
     "output_type": "execute_result"
    }
   ],
   "source": [
    "# seeing data per class\n",
    "np.bincount(y2)"
   ]
  },
  {
   "cell_type": "code",
   "execution_count": 82,
   "id": "28f1b942",
   "metadata": {},
   "outputs": [
    {
     "data": {
      "image/png": "[encoded data removed]",
      "text/plain": [
       "<Figure size 432x288 with 1 Axes>"
      ]
     },
     "metadata": {
      "needs_background": "light"
     },
     "output_type": "display_data"
    }
   ],
   "source": [
    "ax = sns.countplot(x=y2)"
   ]
  },
  {
   "cell_type": "markdown",
   "id": "fe16efcc",
   "metadata": {},
   "source": [
    "# 4.2.1 aplying logistic regression"
   ]
  },
  {
   "cell_type": "code",
   "execution_count": 83,
   "id": "808c3664",
   "metadata": {},
   "outputs": [],
   "source": [
    "# spliting data\n",
    "X_train2, X_test2, y_train2, y_test2 = train_test_split(X2, y2, test_size=0.20, random_state=42)"
   ]
  },
  {
   "cell_type": "code",
   "execution_count": 84,
   "id": "dec1a508",
   "metadata": {},
   "outputs": [
    {
     "data": {
      "text/plain": [
       "LogisticRegression()"
      ]
     },
     "execution_count": 84,
     "metadata": {},
     "output_type": "execute_result"
    }
   ],
   "source": [
    "logmodel_2 = LogisticRegression()\n",
    "logmodel_2.fit(X_train2,y_train2)"
   ]
  },
  {
   "cell_type": "code",
   "execution_count": 85,
   "id": "c047a0d8",
   "metadata": {},
   "outputs": [
    {
     "data": {
      "text/plain": [
       "0.5747070528410347"
      ]
     },
     "execution_count": 85,
     "metadata": {},
     "output_type": "execute_result"
    }
   ],
   "source": [
    "ỹ_test2 = logmodel_2.predict(X_test2)\n",
    "accuracy_score(y_test2, ỹ_test2)"
   ]
  },
  {
   "cell_type": "code",
   "execution_count": 86,
   "id": "f9a59a3e",
   "metadata": {},
   "outputs": [
    {
     "name": "stdout",
     "output_type": "stream",
     "text": [
      "              precision    recall  f1-score   support\n",
      "\n",
      "           0       0.57      0.59      0.58     56536\n",
      "           1       0.58      0.56      0.57     56539\n",
      "\n",
      "    accuracy                           0.57    113075\n",
      "   macro avg       0.57      0.57      0.57    113075\n",
      "weighted avg       0.57      0.57      0.57    113075\n",
      "\n"
     ]
    }
   ],
   "source": [
    "print(classification_report(y_test2,ỹ_test2))\n",
    "# not only the accuracy but the others metrics were worst than the case of the NearMiss"
   ]
  },
  {
   "cell_type": "code",
   "execution_count": 87,
   "id": "bdcfcf84",
   "metadata": {
    "scrolled": true
   },
   "outputs": [
    {
     "data": {
      "text/html": [
       "<div>\n",
       "<style scoped>\n",
       "    .dataframe tbody tr th:only-of-type {\n",
       "        vertical-align: middle;\n",
       "    }\n",
       "\n",
       "    .dataframe tbody tr th {\n",
       "        vertical-align: top;\n",
       "    }\n",
       "\n",
       "    .dataframe thead th {\n",
       "        text-align: right;\n",
       "    }\n",
       "</style>\n",
       "<table border=\"1\" class=\"dataframe\">\n",
       "  <thead>\n",
       "    <tr style=\"text-align: right;\">\n",
       "      <th>Predito</th>\n",
       "      <th>0</th>\n",
       "      <th>1</th>\n",
       "      <th>All</th>\n",
       "    </tr>\n",
       "    <tr>\n",
       "      <th>Real</th>\n",
       "      <th></th>\n",
       "      <th></th>\n",
       "      <th></th>\n",
       "    </tr>\n",
       "  </thead>\n",
       "  <tbody>\n",
       "    <tr>\n",
       "      <th>0</th>\n",
       "      <td>33089</td>\n",
       "      <td>23447</td>\n",
       "      <td>56536</td>\n",
       "    </tr>\n",
       "    <tr>\n",
       "      <th>1</th>\n",
       "      <td>24643</td>\n",
       "      <td>31896</td>\n",
       "      <td>56539</td>\n",
       "    </tr>\n",
       "    <tr>\n",
       "      <th>All</th>\n",
       "      <td>57732</td>\n",
       "      <td>55343</td>\n",
       "      <td>113075</td>\n",
       "    </tr>\n",
       "  </tbody>\n",
       "</table>\n",
       "</div>"
      ],
      "text/plain": [
       "Predito      0      1     All\n",
       "Real                         \n",
       "0        33089  23447   56536\n",
       "1        24643  31896   56539\n",
       "All      57732  55343  113075"
      ]
     },
     "execution_count": 87,
     "metadata": {},
     "output_type": "execute_result"
    }
   ],
   "source": [
    "#print (\n",
    "pd.crosstab(y_test2,ỹ_test2, rownames=['Real'], colnames=['Predito'], margins=True)\n",
    "#)"
   ]
  },
  {
   "cell_type": "code",
   "execution_count": null,
   "id": "025c980e",
   "metadata": {},
   "outputs": [],
   "source": [
    "# Using the umbalanced Dataset"
   ]
  },
  {
   "cell_type": "code",
   "execution_count": 88,
   "id": "bce72290",
   "metadata": {
    "scrolled": true
   },
   "outputs": [
    {
     "data": {
      "text/html": [
       "<div>\n",
       "<style scoped>\n",
       "    .dataframe tbody tr th:only-of-type {\n",
       "        vertical-align: middle;\n",
       "    }\n",
       "\n",
       "    .dataframe tbody tr th {\n",
       "        vertical-align: top;\n",
       "    }\n",
       "\n",
       "    .dataframe thead th {\n",
       "        text-align: right;\n",
       "    }\n",
       "</style>\n",
       "<table border=\"1\" class=\"dataframe\">\n",
       "  <thead>\n",
       "    <tr style=\"text-align: right;\">\n",
       "      <th></th>\n",
       "      <th>CNT_CHILDREN</th>\n",
       "      <th>AMT_INCOME_TOTAL</th>\n",
       "      <th>AMT_CREDIT</th>\n",
       "      <th>AMT_ANNUITY</th>\n",
       "      <th>AMT_GOODS_PRICE</th>\n",
       "      <th>REGION_POPULATION_RELATIVE</th>\n",
       "      <th>DAYS_BIRTH</th>\n",
       "      <th>DAYS_EMPLOYED</th>\n",
       "      <th>OWN_CAR_AGE</th>\n",
       "      <th>CNT_FAM_MEMBERS</th>\n",
       "      <th>REGION_RATING_CLIENT</th>\n",
       "      <th>REGION_RATING_CLIENT_W_CITY</th>\n",
       "      <th>AMT_REQ_CREDIT_BUREAU_YEAR</th>\n",
       "    </tr>\n",
       "  </thead>\n",
       "  <tbody>\n",
       "    <tr>\n",
       "      <th>0</th>\n",
       "      <td>0</td>\n",
       "      <td>202500.0</td>\n",
       "      <td>406597.5</td>\n",
       "      <td>24700.5</td>\n",
       "      <td>351000.0</td>\n",
       "      <td>0.018801</td>\n",
       "      <td>9461</td>\n",
       "      <td>637</td>\n",
       "      <td>9.0</td>\n",
       "      <td>1.0</td>\n",
       "      <td>2</td>\n",
       "      <td>2</td>\n",
       "      <td>1.0</td>\n",
       "    </tr>\n",
       "    <tr>\n",
       "      <th>1</th>\n",
       "      <td>0</td>\n",
       "      <td>270000.0</td>\n",
       "      <td>1293502.5</td>\n",
       "      <td>35698.5</td>\n",
       "      <td>1129500.0</td>\n",
       "      <td>0.003541</td>\n",
       "      <td>16765</td>\n",
       "      <td>1188</td>\n",
       "      <td>9.0</td>\n",
       "      <td>2.0</td>\n",
       "      <td>1</td>\n",
       "      <td>1</td>\n",
       "      <td>0.0</td>\n",
       "    </tr>\n",
       "    <tr>\n",
       "      <th>2</th>\n",
       "      <td>0</td>\n",
       "      <td>67500.0</td>\n",
       "      <td>135000.0</td>\n",
       "      <td>6750.0</td>\n",
       "      <td>135000.0</td>\n",
       "      <td>0.010032</td>\n",
       "      <td>19046</td>\n",
       "      <td>225</td>\n",
       "      <td>26.0</td>\n",
       "      <td>1.0</td>\n",
       "      <td>2</td>\n",
       "      <td>2</td>\n",
       "      <td>0.0</td>\n",
       "    </tr>\n",
       "    <tr>\n",
       "      <th>3</th>\n",
       "      <td>0</td>\n",
       "      <td>135000.0</td>\n",
       "      <td>312682.5</td>\n",
       "      <td>29686.5</td>\n",
       "      <td>297000.0</td>\n",
       "      <td>0.008019</td>\n",
       "      <td>19005</td>\n",
       "      <td>3039</td>\n",
       "      <td>9.0</td>\n",
       "      <td>2.0</td>\n",
       "      <td>2</td>\n",
       "      <td>2</td>\n",
       "      <td>1.0</td>\n",
       "    </tr>\n",
       "    <tr>\n",
       "      <th>4</th>\n",
       "      <td>0</td>\n",
       "      <td>121500.0</td>\n",
       "      <td>513000.0</td>\n",
       "      <td>21865.5</td>\n",
       "      <td>513000.0</td>\n",
       "      <td>0.028663</td>\n",
       "      <td>19932</td>\n",
       "      <td>3038</td>\n",
       "      <td>9.0</td>\n",
       "      <td>1.0</td>\n",
       "      <td>2</td>\n",
       "      <td>2</td>\n",
       "      <td>0.0</td>\n",
       "    </tr>\n",
       "  </tbody>\n",
       "</table>\n",
       "</div>"
      ],
      "text/plain": [
       "   CNT_CHILDREN  AMT_INCOME_TOTAL  AMT_CREDIT  AMT_ANNUITY  AMT_GOODS_PRICE  \\\n",
       "0             0          202500.0    406597.5      24700.5         351000.0   \n",
       "1             0          270000.0   1293502.5      35698.5        1129500.0   \n",
       "2             0           67500.0    135000.0       6750.0         135000.0   \n",
       "3             0          135000.0    312682.5      29686.5         297000.0   \n",
       "4             0          121500.0    513000.0      21865.5         513000.0   \n",
       "\n",
       "   REGION_POPULATION_RELATIVE  DAYS_BIRTH  DAYS_EMPLOYED  OWN_CAR_AGE  \\\n",
       "0                    0.018801        9461            637          9.0   \n",
       "1                    0.003541       16765           1188          9.0   \n",
       "2                    0.010032       19046            225         26.0   \n",
       "3                    0.008019       19005           3039          9.0   \n",
       "4                    0.028663       19932           3038          9.0   \n",
       "\n",
       "   CNT_FAM_MEMBERS  REGION_RATING_CLIENT  REGION_RATING_CLIENT_W_CITY  \\\n",
       "0              1.0                     2                            2   \n",
       "1              2.0                     1                            1   \n",
       "2              1.0                     2                            2   \n",
       "3              2.0                     2                            2   \n",
       "4              1.0                     2                            2   \n",
       "\n",
       "   AMT_REQ_CREDIT_BUREAU_YEAR  \n",
       "0                         1.0  \n",
       "1                         0.0  \n",
       "2                         0.0  \n",
       "3                         1.0  \n",
       "4                         0.0  "
      ]
     },
     "execution_count": 88,
     "metadata": {},
     "output_type": "execute_result"
    }
   ],
   "source": [
    "X.head()"
   ]
  },
  {
   "cell_type": "code",
   "execution_count": 89,
   "id": "775426c6",
   "metadata": {},
   "outputs": [
    {
     "data": {
      "text/plain": [
       "0    1\n",
       "1    0\n",
       "2    0\n",
       "3    0\n",
       "4    0\n",
       "Name: TARGET, dtype: int64"
      ]
     },
     "execution_count": 89,
     "metadata": {},
     "output_type": "execute_result"
    }
   ],
   "source": [
    "y.head()"
   ]
  },
  {
   "cell_type": "code",
   "execution_count": 90,
   "id": "db0424cd",
   "metadata": {},
   "outputs": [],
   "source": [
    "# spliting data\n",
    "X_train, X_test, y_train, y_test = train_test_split(X, y, test_size=0.20, random_state=42)"
   ]
  },
  {
   "cell_type": "code",
   "execution_count": 91,
   "id": "9ec091cc",
   "metadata": {},
   "outputs": [],
   "source": [
    "import pandas as pd\n",
    "from sklearn.model_selection import train_test_split\n",
    "from sklearn import tree"
   ]
  },
  {
   "cell_type": "code",
   "execution_count": 92,
   "id": "f54057b3",
   "metadata": {},
   "outputs": [
    {
     "data": {
      "text/plain": [
       "(0.919205879483594, 0.9195323805342829)"
      ]
     },
     "execution_count": 92,
     "metadata": {},
     "output_type": "execute_result"
    }
   ],
   "source": [
    "# function to trian the decision tree model with max_depth parameter\n",
    "def compara_modelos(maxdepth):\n",
    "    if maxdepth == 0:\n",
    "        dt = tree.DecisionTreeClassifier(random_state=1)\n",
    "    else:   \n",
    "        dt = tree.DecisionTreeClassifier(random_state=1, max_depth=maxdepth)\n",
    "    dt.fit(X_train, y_train)\n",
    "    train_score = dt.score(X_train, y_train)\n",
    "    test_score = dt.score(X_test, y_test)\n",
    "    return train_score,test_score\n",
    "\n",
    "compara_modelos(2)"
   ]
  },
  {
   "cell_type": "code",
   "execution_count": 93,
   "id": "43956b7e",
   "metadata": {},
   "outputs": [
    {
     "name": "stdout",
     "output_type": "stream",
     "text": [
      "depth      Training score       Testing score       \n",
      "-----      --------------       -------------       \n",
      "2         (0.919205879483594, 0.9195323805342829) \n",
      "3         (0.919205879483594, 0.9195323805342829) \n",
      "4         (0.919205879483594, 0.9195323805342829) \n",
      "10         (0.9204009625703229, 0.9181015560216574) \n",
      "15         (0.9283112744300999, 0.9098905744435231) \n",
      "Full         (1.0, 0.8432596783896721) \n"
     ]
    }
   ],
   "source": [
    "print('{:10} {:20} {:20}'.format('depth', 'Training score','Testing score'))\n",
    "print('{:10} {:20} {:20}'.format('-----', '--------------','-------------'))\n",
    "print('{:1}         {} '.format(2,str(compara_modelos(2))))\n",
    "print('{:1}         {} '.format(3,str(compara_modelos(3))))\n",
    "print('{:1}         {} '.format(4,str(compara_modelos(4))))\n",
    "print('{:1}         {} '.format(10,str(compara_modelos(10))))\n",
    "print('{:1}         {} '.format(15,str(compara_modelos(15))))\n",
    "print('{:1}         {} '.format('Full',str(compara_modelos(0))))"
   ]
  },
  {
   "cell_type": "code",
   "execution_count": 96,
   "id": "b2329e60",
   "metadata": {},
   "outputs": [
    {
     "data": {
      "text/plain": [
       "DecisionTreeClassifier(max_depth=4)"
      ]
     },
     "execution_count": 96,
     "metadata": {},
     "output_type": "execute_result"
    }
   ],
   "source": [
    "# adoptede maxdepth =4\n",
    "# training the model\n",
    "dt = tree.DecisionTreeClassifier(max_depth=4)\n",
    "dt.fit(X_train, y_train)"
   ]
  },
  {
   "cell_type": "code",
   "execution_count": 119,
   "id": "580464d9",
   "metadata": {},
   "outputs": [],
   "source": [
    "features = ['CNT_CHILDREN',\n",
    "            'AMT_INCOME_TOTAL',\n",
    "            'AMT_CREDIT',\n",
    "            'AMT_ANNUITY',\n",
    "            'AMT_GOODS_PRICE',\n",
    "            'REGION_POPULATION_RELATIVE',\n",
    "            'DAYS_BIRTH',   \n",
    "            'DAYS_EMPLOYED',   \n",
    "            'OWN_CAR_AGE', \n",
    "            'CNT_FAM_MEMBERS', \n",
    "            'REGION_RATING_CLIENT',\n",
    "            'REGION_RATING_CLIENT_W_CITY', \n",
    "            'AMT_REQ_CREDIT_BUREAU_YEAR', 'TARGET']\n",
    "\n",
    "df =  df_app[features]"
   ]
  },
  {
   "cell_type": "code",
   "execution_count": 120,
   "id": "adaef723",
   "metadata": {},
   "outputs": [
    {
     "name": "stdout",
     "output_type": "stream",
     "text": [
      "CNT_CHILDREN........ 0.0\n",
      "AMT_INCOME_TOTAL.... 0.0\n",
      "AMT_CREDIT.......... 0.007780989734386391\n",
      "AMT_ANNUITY......... 0.12149467325235627\n",
      "AMT_GOODS_PRICE..... 0.19935474764729794\n",
      "REGION_POPULATION_RELATIVE 0.0\n",
      "DAYS_BIRTH.......... 0.010270302828540818\n",
      "DAYS_EMPLOYED....... 0.48270773837527514\n",
      "OWN_CAR_AGE......... 0.004524648244987962\n",
      "CNT_FAM_MEMBERS..... 0.0\n",
      "REGION_RATING_CLIENT 0.01764954271154064\n",
      "REGION_RATING_CLIENT_W_CITY 0.1528440937485299\n",
      "AMT_REQ_CREDIT_BUREAU_YEAR 0.003373263457084925\n"
     ]
    }
   ],
   "source": [
    "# listting the most importants features of the model\n",
    "fi = dt.feature_importances_\n",
    "\n",
    "l = len(df.columns)\n",
    "for i in range(0,len(df.columns)-1):\n",
    "    print('{:.<20} {:3}'.format(features[i],fi[i]))"
   ]
  },
  {
   "cell_type": "code",
   "execution_count": 122,
   "id": "8d22f103",
   "metadata": {},
   "outputs": [],
   "source": [
    "#help(dt.feature_importances_)"
   ]
  },
  {
   "cell_type": "code",
   "execution_count": 125,
   "id": "bf5e7535",
   "metadata": {},
   "outputs": [
    {
     "data": {
      "text/plain": [
       "0.9195323805342829"
      ]
     },
     "execution_count": 125,
     "metadata": {},
     "output_type": "execute_result"
    }
   ],
   "source": [
    "ỹ_test = dt.predict(X_test)\n",
    "ỹ_test\n",
    "accuracy_score(y_test, ỹ_test)\n",
    "\n",
    "# The accuracy result is near the logist regression"
   ]
  },
  {
   "cell_type": "code",
   "execution_count": 127,
   "id": "d5b68887",
   "metadata": {},
   "outputs": [
    {
     "name": "stdout",
     "output_type": "stream",
     "text": [
      "              precision    recall  f1-score   support\n",
      "\n",
      "           0       0.92      1.00      0.96     56554\n",
      "           1       0.00      0.00      0.00      4949\n",
      "\n",
      "    accuracy                           0.92     61503\n",
      "   macro avg       0.46      0.50      0.48     61503\n",
      "weighted avg       0.85      0.92      0.88     61503\n",
      "\n"
     ]
    }
   ],
   "source": [
    "print(classification_report(y_test,ỹ_test))"
   ]
  },
  {
   "cell_type": "code",
   "execution_count": 129,
   "id": "906e601c",
   "metadata": {},
   "outputs": [
    {
     "data": {
      "text/html": [
       "<div>\n",
       "<style scoped>\n",
       "    .dataframe tbody tr th:only-of-type {\n",
       "        vertical-align: middle;\n",
       "    }\n",
       "\n",
       "    .dataframe tbody tr th {\n",
       "        vertical-align: top;\n",
       "    }\n",
       "\n",
       "    .dataframe thead th {\n",
       "        text-align: right;\n",
       "    }\n",
       "</style>\n",
       "<table border=\"1\" class=\"dataframe\">\n",
       "  <thead>\n",
       "    <tr style=\"text-align: right;\">\n",
       "      <th>Predito</th>\n",
       "      <th>0</th>\n",
       "      <th>All</th>\n",
       "    </tr>\n",
       "    <tr>\n",
       "      <th>Real</th>\n",
       "      <th></th>\n",
       "      <th></th>\n",
       "    </tr>\n",
       "  </thead>\n",
       "  <tbody>\n",
       "    <tr>\n",
       "      <th>0</th>\n",
       "      <td>56554</td>\n",
       "      <td>56554</td>\n",
       "    </tr>\n",
       "    <tr>\n",
       "      <th>1</th>\n",
       "      <td>4949</td>\n",
       "      <td>4949</td>\n",
       "    </tr>\n",
       "    <tr>\n",
       "      <th>All</th>\n",
       "      <td>61503</td>\n",
       "      <td>61503</td>\n",
       "    </tr>\n",
       "  </tbody>\n",
       "</table>\n",
       "</div>"
      ],
      "text/plain": [
       "Predito      0    All\n",
       "Real                 \n",
       "0        56554  56554\n",
       "1         4949   4949\n",
       "All      61503  61503"
      ]
     },
     "execution_count": 129,
     "metadata": {},
     "output_type": "execute_result"
    }
   ],
   "source": [
    "#print (\n",
    "pd.crosstab(y_test,ỹ_test, rownames=['Real'], colnames=['Predito'], margins=True)\n",
    "#)\n",
    "#Same as the logist REgression"
   ]
  },
  {
   "cell_type": "markdown",
   "id": "97b5558e",
   "metadata": {},
   "source": [
    "## Conclusion\n",
    "- Using the unbalanced dataset and the the Logistic regression the minor class had bad result without be determined by the algorithm\n",
    "- After using the NearMiss(Who equalize the major class with minor class) The logistic regression could estimate the minor class ( 1 - with dificult in pay ). Changing the test proportion to 30% instead to 20% the results did not shown significative difference.\n",
    "- With SMOTE ( making sintetic data form minor class and equalazing) the logistic could too classify the minor class, but the accuracy score was low than the when used the NearMiss\n",
    "- Finally was tryed change some parameter in the SMOTE but this did delivered results"
   ]
  }
 ],
 "metadata": {
  "kernelspec": {
   "display_name": "Python 3 (ipykernel)",
   "language": "python",
   "name": "python3"
  },
  "language_info": {
   "codemirror_mode": {
    "name": "ipython",
    "version": 3
   },
   "file_extension": ".py",
   "mimetype": "text/x-python",
   "name": "python",
   "nbconvert_exporter": "python",
   "pygments_lexer": "ipython3",
   "version": "3.9.7"
  }
 },
 "nbformat": 4,
 "nbformat_minor": 5
}
